{
 "cells": [
  {
   "cell_type": "code",
   "execution_count": 1,
   "metadata": {},
   "outputs": [],
   "source": [
    "from nltk.corpus import wordnet as wn\n",
    "import matplotlib.pyplot as plt\n",
    "import random\n",
    "import math\n",
    "from nltk.tokenize import word_tokenize\n",
    "from collections import Counter\n",
    "\n",
    "\n",
    "f = open('../../data/tom_sawyer.txt')\n",
    "l = f.readlines()\n",
    "\n",
    "stopWords = ['.', ',', '!', '?', '-', ';', '_']\n",
    "#stop words used for cleaning, this is may cause the number of tokens and types to change\n",
    "\n",
    "\n",
    "def lineCorrector(l):\n",
    "    p = l[:-2]\n",
    "    if len(p) > 0:\n",
    "        return p\n",
    "lines_ = map(lineCorrector, l)\n",
    "lines = []\n",
    "for i in lines_:\n",
    "    if i != None:\n",
    "        lines.append(i)\n",
    "\n",
    "lines = lines[252:]\n",
    "#starting of the actual text of the story\n",
    "\n",
    "data = ' '.join(lines).decode('utf-8')\n",
    "textInWords = [i for i in word_tokenize(data.lower()) if i not in stopWords]\n",
    "count = Counter(textInWords)\n",
    "wordFrequencies = sorted(count.values(), reverse=True)\n",
    "\n",
    "\n",
    "sortedTypes =  sorted(count.items(), key=lambda i: i[1], reverse=True)\n",
    "tokens = word_tokenize(data.lower())\n",
    "types = [ sortedTypes[j][0] for j in xrange(len(sortedTypes)) ]\n",
    "Ranks = []\n",
    "\n",
    "noOfTokens = float(len(tokens))\n",
    "noOfTypes = float(len(types))\n",
    "TTR = noOfTypes/noOfTokens\n",
    "\n",
    "noOfTokens\n",
    "\n",
    "for i in xrange(int(noOfTypes)):\n",
    "    if i == 0:\n",
    "        Ranks.append(i+1)\n",
    "    else:\n",
    "        if wordFrequencies[i-1] == wordFrequencies[i]:\n",
    "            Ranks.append(Ranks[-1])\n",
    "        else:\n",
    "            Ranks.append(Ranks[-1]+1)\n"
   ]
  },
  {
   "cell_type": "code",
   "execution_count": 2,
   "metadata": {},
   "outputs": [
    {
     "data": {
      "text/plain": [
       "8239.0"
      ]
     },
     "execution_count": 2,
     "metadata": {},
     "output_type": "execute_result"
    }
   ],
   "source": [
    "noOfTypes"
   ]
  },
  {
   "cell_type": "code",
   "execution_count": 3,
   "metadata": {},
   "outputs": [
    {
     "data": {
      "text/plain": [
       "0.09150174363075009"
      ]
     },
     "execution_count": 3,
     "metadata": {},
     "output_type": "execute_result"
    }
   ],
   "source": [
    "TTR"
   ]
  },
  {
   "cell_type": "code",
   "execution_count": 4,
   "metadata": {},
   "outputs": [
    {
     "data": {
      "image/png": "[encoded data removed]",
      "text/plain": [
       "<Figure size 432x288 with 1 Axes>"
      ]
     },
     "metadata": {},
     "output_type": "display_data"
    }
   ],
   "source": [
    "dataPoints_x = []\n",
    "dataPoints_y = []\n",
    "for i in xrange(10):\n",
    "    splitList = textInWords[0: (i+1)*9000]\n",
    "    uniqueWords = len(list(set(splitList)))\n",
    "    dataPoints_x.append(uniqueWords)\n",
    "    dataPoints_y.append((i+1)*9000)\n",
    "    \n",
    "for i in xrange(int(noOfTypes)):\n",
    "    if i == 0:\n",
    "        Ranks.append(i+1)\n",
    "    else:\n",
    "        if wordFrequencies[i-1] == wordFrequencies[i]:\n",
    "            Ranks.append(Ranks[-1])\n",
    "        else:\n",
    "            Ranks.append(Ranks[-1]+1)\n",
    "\n",
    "    \n",
    "plt.plot(dataPoints_y, dataPoints_x)\n",
    "plt.show()\n",
    "\n",
    "#the following plot is for showing heapsLaw which is if the form V = KN^b, where V is the vocabulary, ie,\n",
    "#the number of unique words and N is the number of tokens. b and N and are constants"
   ]
  },
  {
   "cell_type": "code",
   "execution_count": 5,
   "metadata": {},
   "outputs": [
    {
     "data": {
      "image/png": "[encoded data removed]",
      "text/plain": [
       "<Figure size 432x288 with 1 Axes>"
      ]
     },
     "metadata": {},
     "output_type": "display_data"
    }
   ],
   "source": [
    "randints = sorted([random.randint(0, 8000) for i in xrange(30)])\n",
    "testWords = [ textInWords[randints[i]] for i in xrange(30)]\n",
    "wordRanks = [ Ranks[randints[i]] for i in xrange(30)]\n",
    "\n",
    "noOfWordMeanings = [ len(wn.synsets(testWords[i])) for i in xrange(30)]\n",
    "wordLength = [ len(testWords[i]) for i in xrange(30)]\n",
    "wordFrequencies = [ wordFrequencies[randints[i]] for i in xrange(30)]\n",
    "\n",
    "logOfWordRanks = []\n",
    "logOfWordFrequencies = []\n",
    "logOfWordLength = []\n",
    "logWordMeanings = []\n",
    "\n",
    "for i in xrange(30):\n",
    "    if noOfWordMeanings[i] == 0:\n",
    "        noOfWordMeanings[i] = 1\n",
    "    logOfWordFrequencies.append(math.log(float(wordFrequencies[i])))\n",
    "    logOfWordLength.append(math.log(float(wordLength[i])))\n",
    "    logOfWordRanks.append(math.log(float(wordRanks[i])))\n",
    "    logWordMeanings.append(math.log(float(noOfWordMeanings[i])))\n",
    "    \n",
    "    \n",
    "    \n",
    "\n",
    "\n",
    "plt.scatter(logOfWordFrequencies, logOfWordRanks)\n",
    "plt.show()\n",
    "\n",
    "#This is the plot of the original Zipf law, it is a log(f) vs log(r) graph. This should be a straight line because \n",
    "# of the proportionality with a negative slope. "
   ]
  },
  {
   "cell_type": "code",
   "execution_count": 6,
   "metadata": {},
   "outputs": [
    {
     "data": {
      "image/png": "[encoded data removed]",
      "text/plain": [
       "<Figure size 432x288 with 1 Axes>"
      ]
     },
     "metadata": {},
     "output_type": "display_data"
    }
   ],
   "source": [
    "plt.scatter(logWordMeanings,logOfWordRanks)\n",
    "plt.ylim((3,10))\n",
    "plt.show()\n",
    "\n",
    "#this plot is log(m) VS log(r) which should be a straight line as the values are proportional to each other"
   ]
  },
  {
   "cell_type": "code",
   "execution_count": 7,
   "metadata": {},
   "outputs": [
    {
     "data": {
      "image/png": "[encoded data removed]",
      "text/plain": [
       "<Figure size 432x288 with 1 Axes>"
      ]
     },
     "metadata": {},
     "output_type": "display_data"
    }
   ],
   "source": [
    "plt.scatter(logWordMeanings, logOfWordFrequencies)\n",
    "plt.ylim((-10,20))\n",
    "plt.show()\n",
    "\n",
    "#this plot is log(m) VS log(f) which should be a straight line as the values are proportional to each other"
   ]
  },
  {
   "cell_type": "code",
   "execution_count": 8,
   "metadata": {},
   "outputs": [
    {
     "data": {
      "image/png": "[encoded data removed]",
      "text/plain": [
       "<Figure size 432x288 with 1 Axes>"
      ]
     },
     "metadata": {},
     "output_type": "display_data"
    }
   ],
   "source": [
    "plt.scatter(logOfWordLength, logOfWordFrequencies)\n",
    "plt.ylim((-10,20))\n",
    "plt.show()\n",
    "\n",
    "#this plot is log(l) VS 0.5log(f) which should be straight line as l is proportional to sqrt(f) with positive slope"
   ]
  },
  {
   "cell_type": "code",
   "execution_count": 9,
   "metadata": {},
   "outputs": [
    {
     "data": {
      "image/png": "[encoded data removed]",
      "text/plain": [
       "<Figure size 432x288 with 1 Axes>"
      ]
     },
     "metadata": {},
     "output_type": "display_data"
    }
   ],
   "source": [
    "plt.scatter(logOfWordLength, logOfWordRanks)\n",
    "plt.ylim((0,10))\n",
    "plt.show()\n",
    "\n",
    "#this plot is log(l) VS 0.5log(r) which should be straight line as l is inversly proportional to sqrt(r) with negative slope"
   ]
  },
  {
   "cell_type": "code",
   "execution_count": 10,
   "metadata": {},
   "outputs": [
    {
     "data": {
      "text/plain": [
       "[34,\n",
       " 30,\n",
       " 8,\n",
       " 24,\n",
       " 18,\n",
       " 6,\n",
       " 4,\n",
       " 18,\n",
       " 4,\n",
       " 2,\n",
       " 2,\n",
       " 14,\n",
       " 4,\n",
       " 3,\n",
       " 3,\n",
       " 5,\n",
       " 6,\n",
       " 2,\n",
       " 5,\n",
       " 2,\n",
       " 4,\n",
       " 5,\n",
       " 2,\n",
       " 3,\n",
       " 2,\n",
       " 3,\n",
       " 4,\n",
       " 2,\n",
       " 9,\n",
       " 3]"
      ]
     },
     "execution_count": 10,
     "metadata": {},
     "output_type": "execute_result"
    }
   ],
   "source": [
    "lVSf = [ wordFrequencies[i]*wordLength[i] for i in xrange(30)]\n",
    "lVSr = [ float(wordLength[i])/wordRanks[i] for i in xrange(30)]\n",
    "mVSf = [ math.sqrt(wordFrequencies[i])/float(noOfWordMeanings[i]) for i in xrange(30)]\n",
    "mVSr = [ math.sqrt(wordRanks[i])*float(noOfWordMeanings[i]) for i in xrange(30)]\n",
    "\n",
    "lVSf\n",
    "\n",
    "#the product of l and f should be constant for the proportionality "
   ]
  },
  {
   "cell_type": "code",
   "execution_count": 11,
   "metadata": {},
   "outputs": [
    {
     "data": {
      "text/plain": [
       "[0.011695906432748537,\n",
       " 0.016853932584269662,\n",
       " 0.010869565217391304,\n",
       " 0.03260869565217391,\n",
       " 0.032432432432432434,\n",
       " 0.010810810810810811,\n",
       " 0.010752688172043012,\n",
       " 0.04838709677419355,\n",
       " 0.010752688172043012,\n",
       " 0.005376344086021506,\n",
       " 0.005376344086021506,\n",
       " 0.03763440860215054,\n",
       " 0.0213903743315508,\n",
       " 0.016042780748663103,\n",
       " 0.016042780748663103,\n",
       " 0.026737967914438502,\n",
       " 0.03208556149732621,\n",
       " 0.0106951871657754,\n",
       " 0.026737967914438502,\n",
       " 0.0106951871657754,\n",
       " 0.0213903743315508,\n",
       " 0.026737967914438502,\n",
       " 0.0106951871657754,\n",
       " 0.016042780748663103,\n",
       " 0.0106951871657754,\n",
       " 0.016042780748663103,\n",
       " 0.0213903743315508,\n",
       " 0.0106951871657754,\n",
       " 0.0481283422459893,\n",
       " 0.016042780748663103]"
      ]
     },
     "execution_count": 11,
     "metadata": {},
     "output_type": "execute_result"
    }
   ],
   "source": [
    "lVSr\n",
    "\n",
    "#the division of l and r should be constant because of the proportionality"
   ]
  },
  {
   "cell_type": "code",
   "execution_count": 12,
   "metadata": {},
   "outputs": [
    {
     "data": {
      "text/plain": [
       "[4.123105625617661,\n",
       " 3.1622776601683795,\n",
       " 1.0,\n",
       " 2.0,\n",
       " 1.7320508075688772,\n",
       " 0.17320508075688773,\n",
       " 0.20203050891044216,\n",
       " 0.47140452079103173,\n",
       " 1.4142135623730951,\n",
       " 1.4142135623730951,\n",
       " 1.4142135623730951,\n",
       " 1.4142135623730951,\n",
       " 0.0625,\n",
       " 1.0,\n",
       " 1.0,\n",
       " 0.08333333333333333,\n",
       " 0.2,\n",
       " 1.0,\n",
       " 0.1,\n",
       " 0.5,\n",
       " 0.1111111111111111,\n",
       " 0.022727272727272728,\n",
       " 1.0,\n",
       " 1.0,\n",
       " 0.5,\n",
       " 1.0,\n",
       " 0.07692307692307693,\n",
       " 1.0,\n",
       " 0.07692307692307693,\n",
       " 1.0]"
      ]
     },
     "execution_count": 12,
     "metadata": {},
     "output_type": "execute_result"
    }
   ],
   "source": [
    "mVSf\n",
    "\n",
    "#the division of sqrt(f) and m must be constant because of the proportionality "
   ]
  },
  {
   "cell_type": "code",
   "execution_count": 13,
   "metadata": {},
   "outputs": [
    {
     "data": {
      "text/plain": [
       "[13.076696830622021,\n",
       " 13.341664064126334,\n",
       " 27.129319932501073,\n",
       " 13.564659966250536,\n",
       " 13.601470508735444,\n",
       " 136.01470508735443,\n",
       " 95.46727187890099,\n",
       " 40.91454509095757,\n",
       " 13.638181696985855,\n",
       " 13.638181696985855,\n",
       " 13.638181696985855,\n",
       " 13.638181696985855,\n",
       " 218.7967092988375,\n",
       " 13.674794331177344,\n",
       " 13.674794331177344,\n",
       " 164.09753197412812,\n",
       " 68.37397165588672,\n",
       " 13.674794331177344,\n",
       " 136.74794331177344,\n",
       " 27.349588662354687,\n",
       " 123.07314898059609,\n",
       " 601.6909505718031,\n",
       " 13.674794331177344,\n",
       " 13.674794331177344,\n",
       " 27.349588662354687,\n",
       " 13.674794331177344,\n",
       " 177.77232630530546,\n",
       " 13.674794331177344,\n",
       " 177.77232630530546,\n",
       " 13.674794331177344]"
      ]
     },
     "execution_count": 13,
     "metadata": {},
     "output_type": "execute_result"
    }
   ],
   "source": [
    "mVSr\n",
    "\n",
    "#the product of sqrt(r) and m must be constant because of the proportionality"
   ]
  }
 ],
 "metadata": {
  "kernelspec": {
   "display_name": "Python 2",
   "language": "python",
   "name": "python2"
  },
  "language_info": {
   "codemirror_mode": {
    "name": "ipython",
    "version": 2
   },
   "file_extension": ".py",
   "mimetype": "text/x-python",
   "name": "python",
   "nbconvert_exporter": "python",
   "pygments_lexer": "ipython2",
   "version": "2.7.15"
  }
 },
 "nbformat": 4,
 "nbformat_minor": 2
}
