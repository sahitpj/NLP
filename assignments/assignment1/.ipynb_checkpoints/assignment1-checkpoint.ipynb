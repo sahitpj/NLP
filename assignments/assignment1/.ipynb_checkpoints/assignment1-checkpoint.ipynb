{
 "cells": [
  {
   "cell_type": "code",
   "execution_count": 1,
   "metadata": {},
   "outputs": [],
   "source": [
    "from nltk.corpus import wordnet as wn\n",
    "import matplotlib.pyplot as plt\n",
    "import random\n",
    "import math\n",
    "from nltk.tokenize import word_tokenize\n",
    "from collections import Counter\n",
    "\n",
    "\n",
    "f = open('../../data/tom_sawyer.txt')\n",
    "l = f.readlines()\n",
    "\n",
    "stopWords = ['.', ',', '!', '?', '-', ';', '_']\n",
    "#stop words used for cleaning, this is may cause the number of tokens and types to change\n",
    "\n",
    "\n",
    "def lineCorrector(l):\n",
    "    p = l[:-2]\n",
    "    if len(p) > 0:\n",
    "        return p\n",
    "lines_ = map(lineCorrector, l)\n",
    "lines = []\n",
    "for i in lines_:\n",
    "    if i != None:\n",
    "        lines.append(i)\n",
    "\n",
    "lines = lines[252:]\n",
    "#starting of the actual text of the story\n",
    "\n",
    "data = ' '.join(lines).decode('utf-8')\n",
    "textInWords = [i for i in word_tokenize(data.lower()) if i not in stopWords]\n",
    "count = Counter(textInWords)\n",
    "wordFrequencies = sorted(count.values(), reverse=True)\n",
    "\n",
    "\n",
    "sortedTypes =  sorted(count.items(), key=lambda i: i[1], reverse=True)\n",
    "tokens = word_tokenize(data.lower())\n",
    "types = [ sortedTypes[j][0] for j in xrange(len(sortedTypes)) ]\n",
    "Ranks = []\n",
    "\n",
    "noOfTokens = float(len(tokens))\n",
    "noOfTypes = float(len(types))\n",
    "TTR = noOfTypes/noOfTokens\n",
    "\n",
    "noOfTokens\n",
    "\n",
    "for i in xrange(int(noOfTypes)):\n",
    "    if i == 0:\n",
    "        Ranks.append(i+1)\n",
    "    else:\n",
    "        if wordFrequencies[i-1] == wordFrequencies[i]:\n",
    "            Ranks.append(Ranks[-1])\n",
    "        else:\n",
    "            Ranks.append(Ranks[-1]+1)\n"
   ]
  },
  {
   "cell_type": "code",
   "execution_count": 2,
   "metadata": {},
   "outputs": [
    {
     "data": {
      "text/plain": [
       "8239.0"
      ]
     },
     "execution_count": 2,
     "metadata": {},
     "output_type": "execute_result"
    }
   ],
   "source": [
    "noOfTypes"
   ]
  },
  {
   "cell_type": "code",
   "execution_count": 3,
   "metadata": {},
   "outputs": [
    {
     "data": {
      "text/plain": [
       "0.09150174363075009"
      ]
     },
     "execution_count": 3,
     "metadata": {},
     "output_type": "execute_result"
    }
   ],
   "source": [
    "TTR"
   ]
  },
  {
   "cell_type": "code",
   "execution_count": 4,
   "metadata": {},
   "outputs": [
    {
     "data": {
      "image/png": "[encoded data removed]",
      "text/plain": [
       "<Figure size 432x288 with 1 Axes>"
      ]
     },
     "metadata": {},
     "output_type": "display_data"
    }
   ],
   "source": [
    "dataPoints_x = []\n",
    "dataPoints_y = []\n",
    "for i in xrange(10):\n",
    "    splitList = textInWords[0: (i+1)*9000]\n",
    "    uniqueWords = len(list(set(splitList)))\n",
    "    dataPoints_x.append(uniqueWords)\n",
    "    dataPoints_y.append((i+1)*9000)\n",
    "    \n",
    "for i in xrange(int(noOfTypes)):\n",
    "    if i == 0:\n",
    "        Ranks.append(i+1)\n",
    "    else:\n",
    "        if wordFrequencies[i-1] == wordFrequencies[i]:\n",
    "            Ranks.append(Ranks[-1])\n",
    "        else:\n",
    "            Ranks.append(Ranks[-1]+1)\n",
    "\n",
    "    \n",
    "plt.plot(dataPoints_y, dataPoints_x)\n",
    "plt.xlabel(\"token\")\n",
    "plt.ylabel(\"unique words\")\n",
    "plt.show()\n",
    "\n",
    "#the following plot is for showing heapsLaw which is if the form V = KN^b, where V is the vocabulary, ie,\n",
    "#the number of unique words and N is the number of tokens. b and N and are constants"
   ]
  },
  {
   "cell_type": "code",
   "execution_count": 5,
   "metadata": {},
   "outputs": [
    {
     "data": {
      "image/png": "[encoded data removed]",
      "text/plain": [
       "<Figure size 432x288 with 1 Axes>"
      ]
     },
     "metadata": {},
     "output_type": "display_data"
    }
   ],
   "source": [
    "randints = sorted([random.randint(0, 8000) for i in xrange(30)])\n",
    "testWords = [ textInWords[randints[i]] for i in xrange(30)]\n",
    "wordRanks = [ Ranks[randints[i]] for i in xrange(30)]\n",
    "\n",
    "noOfWordMeanings = [ len(wn.synsets(testWords[i])) for i in xrange(30)]\n",
    "wordLength = [ len(testWords[i]) for i in xrange(30)]\n",
    "wordFrequencies = [ wordFrequencies[randints[i]] for i in xrange(30)]\n",
    "\n",
    "logOfWordRanks = []\n",
    "logOfWordFrequencies = []\n",
    "logOfWordLength = []\n",
    "logWordMeanings = []\n",
    "\n",
    "for i in xrange(30):\n",
    "    if noOfWordMeanings[i] == 0:\n",
    "        noOfWordMeanings[i] = 1\n",
    "    logOfWordFrequencies.append(math.log(float(wordFrequencies[i])))\n",
    "    logOfWordLength.append(math.log(float(wordLength[i])))\n",
    "    logOfWordRanks.append(math.log(float(wordRanks[i])))\n",
    "    logWordMeanings.append(math.log(float(noOfWordMeanings[i])))\n",
    "    \n",
    "    \n",
    "    \n",
    "\n",
    "\n",
    "plt.scatter(logOfWordFrequencies, logOfWordRanks)\n",
    "plt.xlabel(\"log(word frequencies)\")\n",
    "plt.ylabel(\"log(word ranks)\")\n",
    "plt.show()\n",
    "\n",
    "#This is the plot of the original Zipf law, it is a log(f) vs log(r) graph. This should be a straight line because \n",
    "# of the proportionality with a negative slope. "
   ]
  },
  {
   "cell_type": "code",
   "execution_count": 6,
   "metadata": {},
   "outputs": [
    {
     "data": {
      "image/png": "[encoded data removed]",
      "text/plain": [
       "<Figure size 432x288 with 1 Axes>"
      ]
     },
     "metadata": {},
     "output_type": "display_data"
    }
   ],
   "source": [
    "plt.scatter(logWordMeanings,logOfWordRanks)\n",
    "plt.ylim((3,10))\n",
    "plt.xlabel(\"log(word meanings)\")\n",
    "plt.ylabel(\"log(word ranks)\")\n",
    "plt.show()\n",
    "\n",
    "#this plot is log(m) VS log(r) which should be a straight line as the values are proportional to each other"
   ]
  },
  {
   "cell_type": "code",
   "execution_count": 7,
   "metadata": {},
   "outputs": [
    {
     "data": {
      "image/png": "[encoded data removed]",
      "text/plain": [
       "<Figure size 432x288 with 1 Axes>"
      ]
     },
     "metadata": {},
     "output_type": "display_data"
    }
   ],
   "source": [
    "plt.scatter(logWordMeanings, logOfWordFrequencies)\n",
    "plt.ylim((-10,20))\n",
    "plt.xlabel(\"log(word meanings)\")\n",
    "plt.ylabel(\"log(word frequencies)\")\n",
    "plt.show()\n",
    "\n",
    "#this plot is log(m) VS log(f) which should be a straight line as the values are proportional to each other"
   ]
  },
  {
   "cell_type": "code",
   "execution_count": 8,
   "metadata": {},
   "outputs": [
    {
     "data": {
      "image/png": "[encoded data removed]",
      "text/plain": [
       "<Figure size 432x288 with 1 Axes>"
      ]
     },
     "metadata": {},
     "output_type": "display_data"
    }
   ],
   "source": [
    "plt.scatter(logOfWordLength, logOfWordFrequencies)\n",
    "plt.ylim((-10,20))\n",
    "plt.xlabel(\"log(word length)\")\n",
    "plt.ylabel(\"log(word frequencies)\")\n",
    "plt.show()\n",
    "\n",
    "#this plot is log(l) VS 0.5log(f) which should be straight line as l is proportional to sqrt(f) with positive slope"
   ]
  },
  {
   "cell_type": "code",
   "execution_count": 9,
   "metadata": {},
   "outputs": [
    {
     "data": {
      "image/png": "[encoded data removed]",
      "text/plain": [
       "<Figure size 432x288 with 1 Axes>"
      ]
     },
     "metadata": {},
     "output_type": "display_data"
    }
   ],
   "source": [
    "plt.scatter(logOfWordLength, logOfWordRanks)\n",
    "plt.ylim((0,10))\n",
    "plt.xlabel(\"log(word length)\")\n",
    "plt.ylabel(\"log(word rank)\")\n",
    "plt.show()\n",
    "\n",
    "#this plot is log(l) VS 0.5log(r) which should be straight line as l is inversly proportional to sqrt(r) with negative slope"
   ]
  },
  {
   "cell_type": "code",
   "execution_count": 10,
   "metadata": {},
   "outputs": [
    {
     "data": {
      "text/plain": [
       "[246,\n",
       " 52,\n",
       " 60,\n",
       " 9,\n",
       " 35,\n",
       " 12,\n",
       " 28,\n",
       " 16,\n",
       " 24,\n",
       " 12,\n",
       " 12,\n",
       " 15,\n",
       " 12,\n",
       " 6,\n",
       " 14,\n",
       " 1,\n",
       " 2,\n",
       " 3,\n",
       " 3,\n",
       " 6,\n",
       " 7,\n",
       " 4,\n",
       " 1,\n",
       " 2,\n",
       " 3,\n",
       " 3,\n",
       " 3,\n",
       " 1,\n",
       " 1,\n",
       " 3]"
      ]
     },
     "execution_count": 10,
     "metadata": {},
     "output_type": "execute_result"
    }
   ],
   "source": [
    "lVSf = [ wordFrequencies[i]*wordLength[i] for i in xrange(30)]\n",
    "lVSr = [ float(wordLength[i])/wordRanks[i] for i in xrange(30)]\n",
    "mVSf = [ math.sqrt(wordFrequencies[i])/float(noOfWordMeanings[i]) for i in xrange(30)]\n",
    "mVSr = [ math.sqrt(wordRanks[i])*float(noOfWordMeanings[i]) for i in xrange(30)]\n",
    "\n",
    "lVSf\n",
    "\n",
    "#the product of l and f should be constant for the proportionality "
   ]
  },
  {
   "cell_type": "code",
   "execution_count": 11,
   "metadata": {},
   "outputs": [
    {
     "data": {
      "text/plain": [
       "[0.04081632653061224,\n",
       " 0.022857142857142857,\n",
       " 0.033707865168539325,\n",
       " 0.00558659217877095,\n",
       " 0.027624309392265192,\n",
       " 0.01098901098901099,\n",
       " 0.03804347826086957,\n",
       " 0.021739130434782608,\n",
       " 0.03260869565217391,\n",
       " 0.016304347826086956,\n",
       " 0.016304347826086956,\n",
       " 0.02702702702702703,\n",
       " 0.03225806451612903,\n",
       " 0.016129032258064516,\n",
       " 0.03763440860215054,\n",
       " 0.0053475935828877,\n",
       " 0.0106951871657754,\n",
       " 0.016042780748663103,\n",
       " 0.016042780748663103,\n",
       " 0.03208556149732621,\n",
       " 0.0374331550802139,\n",
       " 0.0213903743315508,\n",
       " 0.0053475935828877,\n",
       " 0.0106951871657754,\n",
       " 0.016042780748663103,\n",
       " 0.016042780748663103,\n",
       " 0.016042780748663103,\n",
       " 0.0053475935828877,\n",
       " 0.0053475935828877,\n",
       " 0.016042780748663103]"
      ]
     },
     "execution_count": 11,
     "metadata": {},
     "output_type": "execute_result"
    }
   ],
   "source": [
    "lVSr\n",
    "\n",
    "#the division of l and r should be constant because of the proportionality"
   ]
  },
  {
   "cell_type": "code",
   "execution_count": 12,
   "metadata": {},
   "outputs": [
    {
     "data": {
      "text/plain": [
       "[1.2806248474865698,\n",
       " 0.3004626062886658,\n",
       " 3.1622776601683795,\n",
       " 3.0,\n",
       " 2.6457513110645907,\n",
       " 1.224744871391589,\n",
       " 0.1,\n",
       " 2.0,\n",
       " 2.0,\n",
       " 0.5,\n",
       " 2.0,\n",
       " 1.7320508075688772,\n",
       " 0.282842712474619,\n",
       " 1.4142135623730951,\n",
       " 0.7071067811865476,\n",
       " 0.14285714285714285,\n",
       " 1.0,\n",
       " 1.0,\n",
       " 1.0,\n",
       " 0.16666666666666666,\n",
       " 0.058823529411764705,\n",
       " 0.047619047619047616,\n",
       " 0.14285714285714285,\n",
       " 0.5,\n",
       " 0.3333333333333333,\n",
       " 0.05263157894736842,\n",
       " 1.0,\n",
       " 0.14285714285714285,\n",
       " 0.14285714285714285,\n",
       " 1.0]"
      ]
     },
     "execution_count": 12,
     "metadata": {},
     "output_type": "execute_result"
    }
   ],
   "source": [
    "mVSf\n",
    "\n",
    "#the division of sqrt(f) and m must be constant because of the proportionality "
   ]
  },
  {
   "cell_type": "code",
   "execution_count": 13,
   "metadata": {},
   "outputs": [
    {
     "data": {
      "text/plain": [
       "[60.6217782649107,\n",
       " 158.74507866387543,\n",
       " 13.341664064126334,\n",
       " 13.379088160259652,\n",
       " 13.45362404707371,\n",
       " 26.981475126464083,\n",
       " 271.29319932501073,\n",
       " 13.564659966250536,\n",
       " 13.564659966250536,\n",
       " 54.258639865002145,\n",
       " 13.564659966250536,\n",
       " 13.601470508735444,\n",
       " 68.19090848492928,\n",
       " 13.638181696985855,\n",
       " 27.27636339397171,\n",
       " 95.72356031824141,\n",
       " 13.674794331177344,\n",
       " 13.674794331177344,\n",
       " 13.674794331177344,\n",
       " 82.04876598706406,\n",
       " 232.47150363001484,\n",
       " 287.1706809547242,\n",
       " 95.72356031824141,\n",
       " 27.349588662354687,\n",
       " 41.02438299353203,\n",
       " 259.82109229236954,\n",
       " 13.674794331177344,\n",
       " 95.72356031824141,\n",
       " 95.72356031824141,\n",
       " 13.674794331177344]"
      ]
     },
     "execution_count": 13,
     "metadata": {},
     "output_type": "execute_result"
    }
   ],
   "source": [
    "mVSr\n",
    "\n",
    "#the product of sqrt(r) and m must be constant because of the proportionality"
   ]
  }
 ],
 "metadata": {
  "kernelspec": {
   "display_name": "Python 2",
   "language": "python",
   "name": "python2"
  },
  "language_info": {
   "codemirror_mode": {
    "name": "ipython",
    "version": 2
   },
   "file_extension": ".py",
   "mimetype": "text/x-python",
   "name": "python",
   "nbconvert_exporter": "python",
   "pygments_lexer": "ipython2",
   "version": "2.7.15"
  }
 },
 "nbformat": 4,
 "nbformat_minor": 2
}
