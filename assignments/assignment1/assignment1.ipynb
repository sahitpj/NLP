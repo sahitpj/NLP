{
 "cells": [
  {
   "cell_type": "code",
   "execution_count": 1,
   "metadata": {},
   "outputs": [],
   "source": [
    "from nltk.corpus import wordnet as wn\n",
    "import matplotlib.pyplot as plt\n",
    "import random\n",
    "import math\n",
    "from nltk.tokenize import word_tokenize\n",
    "from collections import Counter\n",
    "\n",
    "\n",
    "f = open('../../data/tom_sawyer.txt')\n",
    "l = f.readlines()\n",
    "\n",
    "stopWords = ['.', ',', '!', '?', '-', ';', '_']\n",
    "#stop words used for cleaning\n",
    "\n",
    "\n",
    "def lineCorrector(l):\n",
    "    p = l[:-2]\n",
    "    if len(p) > 0:\n",
    "        return p\n",
    "lines_ = map(lineCorrector, l)\n",
    "lines = []\n",
    "for i in lines_:\n",
    "    if i != None:\n",
    "        lines.append(i)\n",
    "\n",
    "lines = lines[252:]\n",
    "#starting of the actual text of the story\n",
    "\n",
    "data = ' '.join(lines).decode('utf-8')\n",
    "textInWords = [i for i in word_tokenize(data.lower()) if i not in stopWords]\n",
    "count = Counter(textInWords)\n",
    "wordFrequencies = sorted(count.values(), reverse=True)\n",
    "\n",
    "\n",
    "sortedTypes =  sorted(count.items(), key=lambda i: i[1], reverse=True)\n",
    "tokens = word_tokenize(data.lower())\n",
    "types = [ sortedTypes[j][0] for j in xrange(len(sortedTypes)) ]\n",
    "Ranks = []\n",
    "\n",
    "noOfTokens = float(len(tokens))\n",
    "noOfTypes = float(len(types))\n",
    "TTR = noOfTypes/noOfTokens\n",
    "\n",
    "noOfTokens\n",
    "\n",
    "for i in xrange(int(noOfTypes)):\n",
    "    if i == 0:\n",
    "        Ranks.append(i+1)\n",
    "    else:\n",
    "        if wordFrequencies[i-1] == wordFrequencies[i]:\n",
    "            Ranks.append(Ranks[-1])\n",
    "        else:\n",
    "            Ranks.append(Ranks[-1]+1)\n"
   ]
  },
  {
   "cell_type": "code",
   "execution_count": 2,
   "metadata": {},
   "outputs": [
    {
     "data": {
      "text/plain": [
       "8239.0"
      ]
     },
     "execution_count": 2,
     "metadata": {},
     "output_type": "execute_result"
    }
   ],
   "source": [
    "noOfTypes"
   ]
  },
  {
   "cell_type": "code",
   "execution_count": 3,
   "metadata": {},
   "outputs": [
    {
     "data": {
      "text/plain": [
       "0.09150174363075009"
      ]
     },
     "execution_count": 3,
     "metadata": {},
     "output_type": "execute_result"
    }
   ],
   "source": [
    "TTR"
   ]
  },
  {
   "cell_type": "code",
   "execution_count": 4,
   "metadata": {},
   "outputs": [
    {
     "data": {
      "image/png": "[encoded data removed]",
      "text/plain": [
       "<Figure size 432x288 with 1 Axes>"
      ]
     },
     "metadata": {},
     "output_type": "display_data"
    }
   ],
   "source": [
    "dataPoints_x = []\n",
    "dataPoints_y = []\n",
    "for i in xrange(10):\n",
    "    splitList = textInWords[0: (i+1)*9000]\n",
    "    uniqueWords = len(list(set(splitList)))\n",
    "    dataPoints_x.append(uniqueWords)\n",
    "    dataPoints_y.append((i+1)*9000)\n",
    "    \n",
    "for i in xrange(int(noOfTypes)):\n",
    "    if i == 0:\n",
    "        Ranks.append(i+1)\n",
    "    else:\n",
    "        if wordFrequencies[i-1] == wordFrequencies[i]:\n",
    "            Ranks.append(Ranks[-1])\n",
    "        else:\n",
    "            Ranks.append(Ranks[-1]+1)\n",
    "\n",
    "    \n",
    "plt.plot(dataPoints_y, dataPoints_x)\n",
    "plt.show()\n",
    "\n",
    "#the following plot is for showing heapsLaw"
   ]
  },
  {
   "cell_type": "code",
   "execution_count": 5,
   "metadata": {},
   "outputs": [
    {
     "data": {
      "image/png": "[encoded data removed]",
      "text/plain": [
       "<Figure size 432x288 with 1 Axes>"
      ]
     },
     "metadata": {},
     "output_type": "display_data"
    }
   ],
   "source": [
    "randints = sorted([random.randint(0, 8000) for i in xrange(10)])\n",
    "testWords = [ textInWords[randints[i]] for i in xrange(10)]\n",
    "wordRanks = [ Ranks[randints[i]] for i in xrange(10)]\n",
    "\n",
    "noOfWordMeanings = [ len(wn.synsets(testWords[i])) for i in xrange(10)]\n",
    "wordLength = [ len(testWords[i]) for i in xrange(10)]\n",
    "wordFrequencies = [ wordFrequencies[randints[i]] for i in xrange(10)]\n",
    "\n",
    "logOfWordRanks = []\n",
    "logOfWordFrequencies = []\n",
    "logOfWordLength = []\n",
    "logWordMeanings = []\n",
    "\n",
    "for i in xrange(10):\n",
    "    if noOfWordMeanings[i] == 0:\n",
    "        noOfWordMeanings[i] = 1\n",
    "    logOfWordFrequencies.append(math.log(float(wordFrequencies[i])))\n",
    "    logOfWordLength.append(math.log(float(wordLength[i])))\n",
    "    logOfWordRanks.append(math.log(float(wordRanks[i])))\n",
    "    logWordMeanings.append(math.log(float(noOfWordMeanings[i])))\n",
    "\n",
    "plt.plot(logWordMeanings,logOfWordRanks, 'r', '-')\n",
    "plt.show()\n",
    "\n",
    "#this plot is log(m) VS log(r) which should be a straight line as the values are proportional to each other"
   ]
  },
  {
   "cell_type": "code",
   "execution_count": 6,
   "metadata": {},
   "outputs": [
    {
     "data": {
      "image/png": "[encoded data removed]",
      "text/plain": [
       "<Figure size 432x288 with 1 Axes>"
      ]
     },
     "metadata": {},
     "output_type": "display_data"
    }
   ],
   "source": [
    "plt.plot(logWordMeanings, logOfWordFrequencies, 'b', '-.-')\n",
    "plt.show()\n",
    "\n",
    "#this plot is log(m) VS log(f) which should be a straight line as the values are proportional to each other"
   ]
  },
  {
   "cell_type": "code",
   "execution_count": 7,
   "metadata": {},
   "outputs": [
    {
     "data": {
      "image/png": "[encoded data removed]",
      "text/plain": [
       "<Figure size 432x288 with 1 Axes>"
      ]
     },
     "metadata": {},
     "output_type": "display_data"
    }
   ],
   "source": [
    "plt.plot(logOfWordLength, logOfWordFrequencies, 'g')\n",
    "plt.show()\n",
    "\n",
    "#this plot is log(l) VS 0.5log(f) which should be straight line as l is proportional to sqrt(f) with positive slope"
   ]
  },
  {
   "cell_type": "code",
   "execution_count": 8,
   "metadata": {},
   "outputs": [
    {
     "data": {
      "image/png": "[encoded data removed]",
      "text/plain": [
       "<Figure size 432x288 with 1 Axes>"
      ]
     },
     "metadata": {},
     "output_type": "display_data"
    }
   ],
   "source": [
    "plt.plot(logOfWordLength, logOfWordRanks, 'c')\n",
    "plt.show()\n",
    "\n",
    "#this plot is log(l) VS 0.5log(r) which should be straight line as l is inversly proportional to sqrt(r) with negative slope"
   ]
  },
  {
   "cell_type": "code",
   "execution_count": 9,
   "metadata": {},
   "outputs": [
    {
     "data": {
      "text/plain": [
       "[116, 20, 6, 6, 2, 3, 2, 4, 1, 1]"
      ]
     },
     "execution_count": 9,
     "metadata": {},
     "output_type": "execute_result"
    }
   ],
   "source": [
    "lVSf = [ wordFrequencies[i]*wordLength[i] for i in xrange(10)]\n",
    "lVSr = [ wordRanks[i]/float(wordLength[i]) for i in xrange(10)]\n",
    "mVSf = [ math.sqrt(wordFrequencies[i])/float(noOfWordMeanings[i]) for i in xrange(10)]\n",
    "mVSr = [ math.sqrt(wordRanks[i])*float(noOfWordMeanings[i]) for i in xrange(10)]\n",
    "\n",
    "lVSf\n",
    "\n",
    "#the product of l and f should be constant for the proportionality "
   ]
  },
  {
   "cell_type": "code",
   "execution_count": 10,
   "metadata": {},
   "outputs": [
    {
     "data": {
      "text/plain": [
       "[39.75, 89.0, 62.0, 62.0, 93.5, 62.333333333333336, 93.5, 46.75, 187.0, 187.0]"
      ]
     },
     "execution_count": 10,
     "metadata": {},
     "output_type": "execute_result"
    }
   ],
   "source": [
    "lVSr\n",
    "\n",
    "#the division of l and r should be constant because of the proportionality"
   ]
  },
  {
   "cell_type": "code",
   "execution_count": 11,
   "metadata": {},
   "outputs": [
    {
     "data": {
      "text/plain": [
       "[0.2447802185061138,\n",
       " 1.5811388300841898,\n",
       " 1.4142135623730951,\n",
       " 0.10101525445522108,\n",
       " 0.07142857142857142,\n",
       " 1.0,\n",
       " 0.5,\n",
       " 0.16666666666666666,\n",
       " 0.14285714285714285,\n",
       " 0.14285714285714285]"
      ]
     },
     "execution_count": 11,
     "metadata": {},
     "output_type": "execute_result"
    }
   ],
   "source": [
    "mVSf\n",
    "\n",
    "#the division of sqrt(f) and m must be constant because of the proportionality "
   ]
  },
  {
   "cell_type": "code",
   "execution_count": 12,
   "metadata": {},
   "outputs": [
    {
     "data": {
      "text/plain": [
       "[277.4094446842068,\n",
       " 26.68332812825267,\n",
       " 13.638181696985855,\n",
       " 190.93454375780198,\n",
       " 191.44712063648282,\n",
       " 13.674794331177344,\n",
       " 27.349588662354687,\n",
       " 82.04876598706406,\n",
       " 95.72356031824141,\n",
       " 95.72356031824141]"
      ]
     },
     "execution_count": 12,
     "metadata": {},
     "output_type": "execute_result"
    }
   ],
   "source": [
    "mVSr\n",
    "\n",
    "#the product of sqrt(r) and m must be constant because of the proportionality"
   ]
  }
 ],
 "metadata": {
  "kernelspec": {
   "display_name": "Python 2",
   "language": "python",
   "name": "python2"
  },
  "language_info": {
   "codemirror_mode": {
    "name": "ipython",
    "version": 2
   },
   "file_extension": ".py",
   "mimetype": "text/x-python",
   "name": "python",
   "nbconvert_exporter": "python",
   "pygments_lexer": "ipython2",
   "version": "2.7.15"
  }
 },
 "nbformat": 4,
 "nbformat_minor": 2
}
